{
 "cells": [
  {
   "cell_type": "markdown",
   "metadata": {},
   "source": [
    "# Week 3 Day 3 Alejandro Homework Algorithms"
   ]
  },
  {
   "cell_type": "markdown",
   "metadata": {},
   "source": [
    "### Exercise #1 <br>\n",
    "<p>Reverse the list below in-place using an in-place algorithm.<br>For extra credit: Reverse the strings at the same time.</p>"
   ]
  },
  {
   "cell_type": "code",
   "execution_count": 7,
   "metadata": {},
   "outputs": [
    {
     "name": "stdout",
     "output_type": "stream",
     "text": [
      "words: ['.', 'ecnetnes', 'a', 'si', '']\n"
     ]
    }
   ],
   "source": [
    "words = ['this' , 'is', 'a', 'sentence', '.']\n",
    "\n",
    "new_list_l = [\"\"] * len(words)\n",
    "length_l = len(new_list_l)-1\n",
    "\n",
    "for i in range(length_l):\n",
    "    new_list_l[i] = words[length_l - i][::-1]\n",
    "            \n",
    "words = new_list_l\n",
    "print(f'words: {words}')"
   ]
  },
  {
   "cell_type": "markdown",
   "metadata": {},
   "source": [
    "### Exercise #2 <br>\n",
    "<p>Create a function that counts how many distinct words are in the string below, then outputs a dictionary with the words as the key and the value as the amount of times that word appears in the string.<br>Should output:<br>{'a': 5,<br>\n",
    " 'abstract': 1,<br>\n",
    " 'an': 3,<br>\n",
    " 'array': 2, ... etc...</p>"
   ]
  },
  {
   "cell_type": "code",
   "execution_count": 2,
   "metadata": {},
   "outputs": [
    {
     "data": {
      "text/plain": [
       "{'a': 5,\n",
       " 'in': 1,\n",
       " 'abstract': 1,\n",
       " 'an': 3,\n",
       " 'array': 2,\n",
       " 'associative': 1,\n",
       " 'be': 1,\n",
       " 'buckets': 1,\n",
       " 'can': 2,\n",
       " 'compute': 1,\n",
       " 'computing,': 1,\n",
       " 'data': 2,\n",
       " 'desired': 1,\n",
       " 'found': 1,\n",
       " 'from': 1,\n",
       " 'function': 1,\n",
       " 'hash': 4,\n",
       " 'implements': 1,\n",
       " 'index': 1,\n",
       " 'into': 1,\n",
       " 'is': 1,\n",
       " 'keys': 1,\n",
       " 'map': 2,\n",
       " 'of': 1,\n",
       " 'or': 1,\n",
       " 'slots': 1,\n",
       " 'structure': 2,\n",
       " 'table': 2,\n",
       " 'that': 1,\n",
       " 'the': 1,\n",
       " 'to': 2,\n",
       " 'type,': 1,\n",
       " 'uses': 1,\n",
       " 'value': 1,\n",
       " 'values.': 1,\n",
       " 'which': 2}"
      ]
     },
     "execution_count": 2,
     "metadata": {},
     "output_type": "execute_result"
    }
   ],
   "source": [
    "a_text = 'In computing, a hash table hash map is a data structure which implements an associative array abstract data type, a structure that can map keys to values. A hash table uses a hash function to compute an index into an array of buckets or slots from which the desired value can be found'\n",
    "\n",
    "\n",
    "def swap(i, j, list_a):\n",
    "    list_a[i], list_a[j] = list_a[j], list_a[i]\n",
    "    \n",
    "def bubbleSort(list_a):\n",
    "    isSorted = False\n",
    "    while not isSorted:\n",
    "        isSorted = True\n",
    "        for num in range(len(list_a) - 1):\n",
    "            if list_a[num] > list_a[num + 1]:\n",
    "                swap(num, num + 1, list_a)\n",
    "                isSorted = False\n",
    "    return list_a\n",
    "\n",
    "def count(strng):\n",
    "    count_d = {}\n",
    "    count_l = bubbleSort(strng.split())\n",
    "    \n",
    "    for word in count_l:\n",
    "        if word.lower() not in count_d:\n",
    "            count_d[word.lower()] = 1\n",
    "        else: \n",
    "            count_d[word.lower()] += 1\n",
    "    return(count_d)\n",
    "\n",
    "\n",
    "\n",
    "count(a_text)"
   ]
  },
  {
   "cell_type": "markdown",
   "metadata": {},
   "source": [
    "## Exercise #3\n",
    "\n",
    "Write a program to implement a Linear Search Algorithm. Also in a comment, write the Time Complexity of the following algorithm.\n",
    "\n",
    "#### Hint: Linear Searching will require searching a list for a given number. "
   ]
  },
  {
   "cell_type": "code",
   "execution_count": 3,
   "metadata": {},
   "outputs": [
    {
     "name": "stdout",
     "output_type": "stream",
     "text": [
      "Unsorted list: [85, 60, 19, 51, 96, 26, 30, 92, 95, 85]\n",
      "sorted list: [19, 26, 30, 51, 60, 85, 85, 92, 95, 96]\n"
     ]
    }
   ],
   "source": [
    "from random import randint\n",
    "\n",
    "to_sort = [randint(0, 100) for i in range(10)]\n",
    "\n",
    "print(f'Unsorted list: {to_sort}')\n",
    "\n",
    "def linearSearch(a_list):\n",
    "    isSorted = False\n",
    "    while not isSorted:\n",
    "        isSorted = True\n",
    "        for n in range(len(a_list) - 1):\n",
    "            if a_list[n] > a_list[n + 1]:\n",
    "                a_list[n], a_list[n + 1] = a_list[n + 1], a_list[n]\n",
    "                isSorted = False       \n",
    "    return to_sort\n",
    "\n",
    "print(f'sorted list: {linearSearch(to_sort)}')\n"
   ]
  }
 ],
 "metadata": {
  "kernelspec": {
   "display_name": "Python 3",
   "language": "python",
   "name": "python3"
  },
  "language_info": {
   "codemirror_mode": {
    "name": "ipython",
    "version": 3
   },
   "file_extension": ".py",
   "mimetype": "text/x-python",
   "name": "python",
   "nbconvert_exporter": "python",
   "pygments_lexer": "ipython3",
   "version": "3.8.5"
  }
 },
 "nbformat": 4,
 "nbformat_minor": 4
}
