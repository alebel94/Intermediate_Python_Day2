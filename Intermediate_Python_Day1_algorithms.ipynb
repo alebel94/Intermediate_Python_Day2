{
 "cells": [
  {
   "cell_type": "markdown",
   "metadata": {},
   "source": [
    "#Intermediate_Python_Day2 Algorithms"
   ]
  },
  {
   "cell_type": "markdown",
   "metadata": {},
   "source": [
    "### Exercise #1 <br>\n",
    "<p>Reverse the list below in-place using an in-place algorithm.<br>For extra credit: Reverse the strings at the same time.</p>"
   ]
  },
  {
   "cell_type": "code",
   "execution_count": 7,
   "metadata": {},
   "outputs": [
    {
     "name": "stdout",
     "output_type": "stream",
     "text": [
      "words: ['.', 'ecnetnes', 'a', 'si', '']\n"
     ]
    }
   ],
   "source": [
    "words = ['this' , 'is', 'a', 'sentence', '.']\n",
    "\n",
    "new_list_l = [\"\"] * len(words)\n",
    "length_l = len(new_list_l)-1\n",
    "\n",
    "for i in range(length_l):\n",
    "    new_list_l[i] = words[length_l - i][::-1]\n",
    "            \n",
    "words = new_list_l\n",
    "print(f'words: {words}')"
   ]
  },
  {
   "cell_type": "markdown",
   "metadata": {},
   "source": [
    "### Exercise #2 <br>\n",
    "<p>Create a function that counts how many distinct words are in the string below, then outputs a dictionary with the words as the key and the value as the amount of times that word appears in the string.<br>Should output:<br>{'a': 5,<br>\n",
    " 'abstract': 1,<br>\n",
    " 'an': 3,<br>\n",
    " 'array': 2, ... etc...</p>"
   ]
  },
  {
   "cell_type": "code",
   "execution_count": 2,
   "metadata": {},
   "outputs": [
    {
     "data": {
      "text/plain": [
       "{'a': 5,\n",
       " 'in': 1,\n",
       " 'abstract': 1,\n",
       " 'an': 3,\n",
       " 'array': 2,\n",
       " 'associative': 1,\n",
       " 'be': 1,\n",
       " 'buckets': 1,\n",
       " 'can': 2,\n",
       " 'compute': 1,\n",
       " 'computing,': 1,\n",
       " 'data': 2,\n",
       " 'desired': 1,\n",
       " 'found': 1,\n",
       " 'from': 1,\n",
       " 'function': 1,\n",
       " 'hash': 4,\n",
       " 'implements': 1,\n",
       " 'index': 1,\n",
       " 'into': 1,\n",
       " 'is': 1,\n",
       " 'keys': 1,\n",
       " 'map': 2,\n",
       " 'of': 1,\n",
       " 'or': 1,\n",
       " 'slots': 1,\n",
       " 'structure': 2,\n",
       " 'table': 2,\n",
       " 'that': 1,\n",
       " 'the': 1,\n",
       " 'to': 2,\n",
       " 'type,': 1,\n",
       " 'uses': 1,\n",
       " 'value': 1,\n",
       " 'values.': 1,\n",
       " 'which': 2}"
      ]
     },
     "execution_count": 2,
     "metadata": {},
     "output_type": "execute_result"
    }
   ],
   "source": [
    "a_text = 'In computing, a hash table hash map is a data structure which implements an associative array abstract data type, a structure that can map keys to values. A hash table uses a hash function to compute an index into an array of buckets or slots from which the desired value can be found'\n",
    "\n",
    "\n",
    "def swap(i, j, list_a):\n",
    "    list_a[i], list_a[j] = list_a[j], list_a[i]\n",
    "    \n",
    "def bubbleSort(list_a):\n",
    "    isSorted = False\n",
    "    while not isSorted:\n",
    "        isSorted = True\n",
    "        for num in range(len(list_a) - 1):\n",
    "            if list_a[num] > list_a[num + 1]:\n",
    "                swap(num, num + 1, list_a)\n",
    "                isSorted = False\n",
    "    return list_a\n",
    "\n",
    "def count(strng):\n",
    "    count_d = {}\n",
    "    count_l = bubbleSort(strng.split())\n",
    "    \n",
    "    for word in count_l:\n",
    "        if word.lower() not in count_d:\n",
    "            count_d[word.lower()] = 1\n",
    "        else: \n",
    "            count_d[word.lower()] += 1\n",
    "    return(count_d)\n",
    "\n",
    "\n",
    "\n",
    "count(a_text)"
   ]
  },
  {
   "cell_type": "markdown",
   "metadata": {},
   "source": [
    "## Exercise #3\n",
    "\n",
    "Write a program to implement a Linear Search Algorithm. Also in a comment, write the Time Complexity of the following algorithm.\n",
    "\n",
    "#### Hint: Linear Searching will require searching a list for a given number. "
   ]
  },
  {
   "cell_type": "code",
   "execution_count": 13,
   "metadata": {},
   "outputs": [
    {
     "name": "stdout",
     "output_type": "stream",
     "text": [
      "Unsorted list: [3, 31, 15, 32, 86, 66, 58, 76, 63, 31]\n",
      "sorted list: [3, 15, 31, 31, 32, 58, 63, 66, 76, 86]\n"
     ]
    }
   ],
   "source": [
    "# I READ SORT NOT SEARCH THIS WAS MY FIRST ATTEMPT. LOOK AT CELL BELLOW\n",
    "# ALSO REALIZED BUBBLESORT IS O(n^2) NOT O(n) SO IT'S NOT APPLICABLE HERE. NEED TO USE QUICK SORT\n",
    "\n",
    "from random import randint\n",
    "\n",
    "to_sort = [randint(0, 100) for i in range(10)]\n",
    "\n",
    "print(f'Unsorted list: {to_sort}')\n",
    "\n",
    "def linearSearch(a_list):\n",
    "    isSorted = False\n",
    "    while not isSorted:\n",
    "        isSorted = True\n",
    "        for n in range(len(a_list) - 1):\n",
    "            if a_list[n] > a_list[n + 1]:\n",
    "                a_list[n], a_list[n + 1] = a_list[n + 1], a_list[n]\n",
    "                isSorted = False       \n",
    "    return to_sort\n",
    "\n",
    "print(f'sorted list: {linearSearch(to_sort)}')"
   ]
  },
  {
   "cell_type": "code",
   "execution_count": 54,
   "metadata": {},
   "outputs": [
    {
     "name": "stdout",
     "output_type": "stream",
     "text": [
      "Unsorted list: [10, 64, 64, 55, 93, 55, 59, 72, 13, 93]\n",
      "sorted but unsearched list: [10, 13, 55, 55, 59, 64, 64, 72, 93, 93]\n",
      "searched list: [7]\n",
      "\n",
      " The MergeSort is O log(n) and the linearSearch is O(n) because it passes through all of the numbers in the list. Therefore worst case scenario for the whole thing is O(n)\n"
     ]
    }
   ],
   "source": [
    "# FOR SEARCHING LOOK AT THIS ONE\n",
    "\n",
    "from random import randint\n",
    "\n",
    "rand_list = [10, 64, 64, 55, 93, 55, 59, 72, 13, 93]\n",
    "\n",
    "#[randint(0, 100) for i in range(10)]\n",
    "\n",
    "print(f'Unsorted list: {rand_list}')\n",
    "\n",
    "def mergeSort(alist):\n",
    "    \n",
    "    if len(alist) > 1:\n",
    "        mid = len(alist) // 2\n",
    "        lefthalf = alist[:mid]\n",
    "        righthalf = alist[mid:]\n",
    "        \n",
    "        mergeSort(lefthalf)\n",
    "        mergeSort(righthalf)\n",
    "        \n",
    "        i = 0 \n",
    "        j = 0 \n",
    "        k = 0 \n",
    "        \n",
    "        while i < len(lefthalf) and j < len(righthalf):\n",
    "            if lefthalf[i] < righthalf[j]:\n",
    "                alist[k] = lefthalf[i]\n",
    "                i = i + 1\n",
    "            else:\n",
    "                alist[k] = righthalf[j]\n",
    "                j = j + 1\n",
    "            k = k + 1\n",
    "        while i < len(lefthalf):\n",
    "            alist[k] = lefthalf[i]\n",
    "            i = i + 1\n",
    "            k = k + 1\n",
    "        while j < len(righthalf):\n",
    "            alist[k] = righthalf[j]\n",
    "            j = j + 1\n",
    "            k = k + 1\n",
    "\n",
    "    return alist\n",
    "\n",
    "print(f'sorted but unsearched list: {mergeSort(rand_list)}')\n",
    "\n",
    "def linearSearch(alist, target):\n",
    "    blist = mergeSort(alist)    \n",
    "    clist = []\n",
    "    counter = 0\n",
    "    for n in blist:\n",
    "        if n == target:\n",
    "            clist.append(counter)\n",
    "            counter += 1\n",
    "        else:\n",
    "            counter += 1\n",
    "    return clist\n",
    "\n",
    "print(f'searched list: {linearSearch(rand_list, 72)}')\n",
    "\n",
    "print(\"\\n The MergeSort is O log(n) and the linearSearch is O(n) because it passes through all of the numbers in the list. Therefore worst case scenario for the whole thing is O(n)\")"
   ]
  },
  {
   "cell_type": "code",
   "execution_count": null,
   "metadata": {},
   "outputs": [],
   "source": []
  },
  {
   "cell_type": "code",
   "execution_count": null,
   "metadata": {},
   "outputs": [],
   "source": []
  },
  {
   "cell_type": "code",
   "execution_count": null,
   "metadata": {},
   "outputs": [],
   "source": []
  },
  {
   "cell_type": "code",
   "execution_count": null,
   "metadata": {},
   "outputs": [],
   "source": []
  },
  {
   "cell_type": "code",
   "execution_count": null,
   "metadata": {},
   "outputs": [],
   "source": []
  }
 ],
 "metadata": {
  "kernelspec": {
   "display_name": "Python 3",
   "language": "python",
   "name": "python3"
  },
  "language_info": {
   "codemirror_mode": {
    "name": "ipython",
    "version": 3
   },
   "file_extension": ".py",
   "mimetype": "text/x-python",
   "name": "python",
   "nbconvert_exporter": "python",
   "pygments_lexer": "ipython3",
   "version": "3.8.5"
  }
 },
 "nbformat": 4,
 "nbformat_minor": 4
}
